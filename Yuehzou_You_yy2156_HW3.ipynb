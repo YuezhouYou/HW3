{
 "cells": [
  {
   "cell_type": "code",
   "execution_count": 71,
   "metadata": {},
   "outputs": [],
   "source": [
    "import numpy as np\n",
    "import pandas as pd\n",
    "import datetime\n",
    "from datetime import timedelta"
   ]
  },
  {
   "cell_type": "code",
   "execution_count": 4,
   "metadata": {},
   "outputs": [],
   "source": [
    "df_raw = pd.read_excel(\"MMSecondPricesOrders_Fall2019.xlsx\")"
   ]
  },
  {
   "cell_type": "markdown",
   "metadata": {},
   "source": [
    "### df & df_time"
   ]
  },
  {
   "cell_type": "code",
   "execution_count": 49,
   "metadata": {},
   "outputs": [],
   "source": [
    "df = df_raw.iloc[:,0:8]"
   ]
  },
  {
   "cell_type": "code",
   "execution_count": 50,
   "metadata": {
    "scrolled": true
   },
   "outputs": [],
   "source": [
    "df.columns = ['Time','Bid','Ask','Mid','Diretion','Or_time','Or_Bid','Or_Ask']"
   ]
  },
  {
   "cell_type": "code",
   "execution_count": 51,
   "metadata": {},
   "outputs": [],
   "source": [
    "df_time = df.set_index('Time').copy()"
   ]
  },
  {
   "cell_type": "code",
   "execution_count": 52,
   "metadata": {},
   "outputs": [],
   "source": [
    "df['Mid'] = 0.5*(df['Bid']+df['Ask'])"
   ]
  },
  {
   "cell_type": "code",
   "execution_count": 53,
   "metadata": {},
   "outputs": [],
   "source": [
    "df_time['Mid'] = 0.5*(df_time['Bid']+df_time['Ask'])"
   ]
  },
  {
   "cell_type": "code",
   "execution_count": 164,
   "metadata": {},
   "outputs": [],
   "source": [
    "df_order = df_raw.iloc[0:90,11:16]"
   ]
  },
  {
   "cell_type": "markdown",
   "metadata": {},
   "source": [
    "#### Assume each order has size of 1, then calculate thePnL\n",
    "## MT"
   ]
  },
  {
   "cell_type": "code",
   "execution_count": 56,
   "metadata": {},
   "outputs": [],
   "source": [
    "df_mt = df.copy()"
   ]
  },
  {
   "cell_type": "code",
   "execution_count": 57,
   "metadata": {},
   "outputs": [],
   "source": [
    "df_mt = df_mt.fillna(0.0)"
   ]
  },
  {
   "cell_type": "code",
   "execution_count": 58,
   "metadata": {},
   "outputs": [],
   "source": [
    "df_mt['PnL'] = 0.5*(df_mt['Or_Ask'].astype(float)-df_mt['Or_Bid'].astype(float)) "
   ]
  },
  {
   "cell_type": "code",
   "execution_count": 60,
   "metadata": {},
   "outputs": [
    {
     "data": {
      "text/plain": [
       "0.006235000000041402"
      ]
     },
     "execution_count": 60,
     "metadata": {},
     "output_type": "execute_result"
    }
   ],
   "source": [
    "df_mt['PnL'].sum()"
   ]
  },
  {
   "cell_type": "code",
   "execution_count": 62,
   "metadata": {},
   "outputs": [
    {
     "data": {
      "text/plain": [
       "431814"
      ]
     },
     "execution_count": 62,
     "metadata": {},
     "output_type": "execute_result"
    }
   ],
   "source": [
    "len(df_mt)"
   ]
  },
  {
   "cell_type": "markdown",
   "metadata": {},
   "source": [
    "#### So, assume each order has size of 1, the excution cost is 0.006235"
   ]
  },
  {
   "cell_type": "markdown",
   "metadata": {},
   "source": [
    "## OMMside"
   ]
  },
  {
   "cell_type": "code",
   "execution_count": 151,
   "metadata": {
    "scrolled": true
   },
   "outputs": [],
   "source": [
    "df_ommside = df.copy()\n",
    "df_ommside_sb = df_ommside.dropna()\n",
    "df_ommside = df_ommside.fillna(0.0)\n",
    "delta = timedelta(days=0,seconds=1)\n",
    "index_list = df_ommside_sb.index"
   ]
  },
  {
   "cell_type": "code",
   "execution_count": 152,
   "metadata": {},
   "outputs": [],
   "source": [
    "# c1: Condition, the name of column used; tte is a int; sl is a float (20,0.0003)\n",
    "def get_pnl_side(df_input,tte,sl):\n",
    "    pnl = [] # for each row there is a pnl value, it there is no trade, append nan, positive cost lose money\n",
    "    reason = [] #reason recording\n",
    "    wait_time = []\n",
    "    length = len(df_input)\n",
    "    for i in index_list:\n",
    "        if df_input['Diretion'][i] == 'B':\n",
    "            price_aim = df_input['Bid'][i]\n",
    "            # 3 conditions that leads to aggress the price --- tte,sl and price reaches our aim; put tte in loop's condition\n",
    "            # ... and within the loop we only need two condition, with break\n",
    "            for j in range(tte):\n",
    "                price_temp = df_input['Ask'][i+j+1]\n",
    "                price_change = df_input['Ask'][i+j+1] - df_input['Ask'][i]\n",
    "                cost = df_input['Ask'][i+j+1] - df_input['Mid'][i]\n",
    "                if price_change >= sl:\n",
    "                    pnl.append(-1*cost)\n",
    "                    reason.append('sl')\n",
    "                    wait_time.append(j+1)\n",
    "                    break;\n",
    "                if price_temp <= price_aim:\n",
    "                    pnl.append(-1*cost)\n",
    "                    reason.append('success')\n",
    "                    wait_time.append(j+1)\n",
    "                    break;\n",
    "                if j == tte-1:\n",
    "                    pnl.append(-1*cost)\n",
    "                    reason.append('tte')\n",
    "                    wait_time.append(j+1)\n",
    "                    #print(wait_time)\n",
    "                    \n",
    "        elif df_input['Diretion'][i] == 'S':\n",
    "            price_aim = df_input['Ask'][i]\n",
    "            # 3 conditions that leads to aggress the price --- tte,sl and price reaches our aim; put tte in loop's condition\n",
    "            # ... and within the loop we only need two condition, with break\n",
    "            for j in range(tte):\n",
    "                price_temp = df_input['Bid'][i+j+1]\n",
    "                price_change = df_input['Bid'][i+j+1] - df_input['Bid'][i]\n",
    "                cost = df_input['Bid'][i+j+1] - df_input['Mid'][i]\n",
    "                if -price_change >= sl:\n",
    "                    pnl.append(1*cost)\n",
    "                    reason.append('sl')\n",
    "                    wait_time.append(j+1)\n",
    "                    break;\n",
    "                if price_temp >= price_aim:\n",
    "                    pnl.append(1*cost)\n",
    "                    reason.append('success')\n",
    "                    wait_time.append(j+1)\n",
    "                    break;\n",
    "                if j == tte-1:\n",
    "                    pnl.append(1*cost)\n",
    "                    reason.append('tte')\n",
    "                    wait_time.append(j+1)\n",
    "        else:\n",
    "            pnl.append(np.nan)\n",
    "            reason.append('none')\n",
    "            wait_time.append(np.nan)\n",
    "    result = [pnl,reason,wait_time]\n",
    "    return pd.DataFrame(result).T"
   ]
  },
  {
   "cell_type": "markdown",
   "metadata": {},
   "source": [
    "### OMMmid"
   ]
  },
  {
   "cell_type": "code",
   "execution_count": 153,
   "metadata": {},
   "outputs": [],
   "source": [
    "df_ommmid = df.copy()\n",
    "df_ommmid_sb = df_ommmid.dropna()\n",
    "df_ommmid = df_ommside.fillna(0.0)\n",
    "delta = timedelta(days=0,seconds=1)\n",
    "index_list = df_ommmid_sb.index"
   ]
  },
  {
   "cell_type": "code",
   "execution_count": 154,
   "metadata": {},
   "outputs": [],
   "source": [
    "def get_pnl_mid(df_input,tte,sl):\n",
    "    pnl = [] # for each row there is a pnl value, it there is no trade, append nan, positive cost lose money\n",
    "    reason = [] #reason recording\n",
    "    wait_time = []\n",
    "    length = len(df_input)\n",
    "    for i in index_list:\n",
    "        if df_input['Diretion'][i] == 'B':\n",
    "            price_aim = df_input['Mid'][i]\n",
    "            # 3 conditions that leads to aggress the price --- tte,sl and price reaches our aim; put tte in loop's condition\n",
    "            # ... and within the loop we only need two condition, with break\n",
    "            for j in range(tte):\n",
    "                price_temp = df_input['Ask'][i+j+1]\n",
    "                price_change = df_input['Ask'][i+j+1] - df_input['Ask'][i]\n",
    "                cost = df_input['Ask'][i+j+1] - df_input['Mid'][i]\n",
    "                if price_change >= sl:\n",
    "                    pnl.append(-1*cost)\n",
    "                    reason.append('sl')\n",
    "                    wait_time.append(j+1)\n",
    "                    break;\n",
    "                if price_temp <= price_aim:\n",
    "                    pnl.append(-1*cost)\n",
    "                    reason.append('success')\n",
    "                    wait_time.append(j+1)\n",
    "                    break;\n",
    "                if j == tte-1:\n",
    "                    pnl.append(-1*cost)\n",
    "                    reason.append('tte')\n",
    "                    wait_time.append(j+1)\n",
    "                    #print(wait_time)\n",
    "                    \n",
    "        elif df_input['Diretion'][i] == 'S':\n",
    "            price_aim = df_input['Mid'][i]\n",
    "            # 3 conditions that leads to aggress the price --- tte,sl and price reaches our aim; put tte in loop's condition\n",
    "            # ... and within the loop we only need two condition, with break\n",
    "            for j in range(tte):\n",
    "                price_temp = df_input['Bid'][i+j+1]\n",
    "                price_change = df_input['Bid'][i+j+1] - df_input['Bid'][i]\n",
    "                cost = df_input['Bid'][i+j+1] - df_input['Mid'][i]\n",
    "                if -price_change >= sl:\n",
    "                    pnl.append(1*cost)\n",
    "                    reason.append('sl')\n",
    "                    wait_time.append(j+1)\n",
    "                    break;\n",
    "                if price_temp >= price_aim:\n",
    "                    pnl.append(1*cost)\n",
    "                    reason.append('success')\n",
    "                    wait_time.append(j+1)\n",
    "                    break;\n",
    "                if j == tte-1:\n",
    "                    pnl.append(1*cost)\n",
    "                    reason.append('tte')\n",
    "                    wait_time.append(j+1)\n",
    "        else:\n",
    "            pnl.append(np.nan)\n",
    "            reason.append('none')\n",
    "            wait_time.append(np.nan)\n",
    "    result = [pnl,reason,wait_time]\n",
    "    return pd.DataFrame(result).T"
   ]
  },
  {
   "cell_type": "code",
   "execution_count": 175,
   "metadata": {},
   "outputs": [],
   "source": [
    "def OMM_concat(df1,df2,tte,sl):\n",
    "    df1 = get_pnl_side(df1,tte,sl)\n",
    "    df2 = get_pnl_mid(df2,tte,sl)\n",
    "    #result = pd.concat([df_order,df1,df2],axis=1, sort=False)\n",
    "    #result.columns = ['Time','Order','Then_Bid','Then_Ask','pnl_side','reason_side','wt_side','pnl_mid','reason_mid','wt_mid']\n",
    "    result = pd.concat([df1,df2],axis=1, sort=False)\n",
    "    result.columns = ['pnl_side','reason_side','wt_side','pnl_mid','reason_mid','wt_mid']\n",
    "    return result"
   ]
  },
  {
   "cell_type": "code",
   "execution_count": 177,
   "metadata": {},
   "outputs": [
    {
     "data": {
      "text/plain": [
       "-0.00011594444444393837"
      ]
     },
     "execution_count": 177,
     "metadata": {},
     "output_type": "execute_result"
    }
   ],
   "source": [
    "OMM_concat(df_ommside,df_ommmid,20,0.0003)['pnl_side'].mean()"
   ]
  },
  {
   "cell_type": "code",
   "execution_count": null,
   "metadata": {},
   "outputs": [],
   "source": [
    "def OMM_stats(df1,df2,tte,sl):\n",
    "    result_df = OMM_concat(df1,df2,tte,sl)\n",
    "    mean_side\n",
    "    mean_mid\n",
    "    median_side\n",
    "    median_mid\n",
    "    \n",
    "    df = pd.DataFrame([[1,1.23,'Hello']], columns=list('ABC'))"
   ]
  },
  {
   "cell_type": "code",
   "execution_count": 170,
   "metadata": {
    "scrolled": true
   },
   "outputs": [
    {
     "name": "stdout",
     "output_type": "stream",
     "text": [
      "11.0\n",
      "11.5\n",
      "12.0\n",
      "12.5\n",
      "13.0\n",
      "13.5\n",
      "14.0\n",
      "14.5\n",
      "15.0\n",
      "15.5\n",
      "16.0\n",
      "16.5\n"
     ]
    }
   ],
   "source": [
    "for i in np.arange(11, 17, 0.5).tolist():\n",
    "    "
   ]
  },
  {
   "cell_type": "code",
   "execution_count": null,
   "metadata": {},
   "outputs": [],
   "source": []
  }
 ],
 "metadata": {
  "kernelspec": {
   "display_name": "Python 3",
   "language": "python",
   "name": "python3"
  },
  "language_info": {
   "codemirror_mode": {
    "name": "ipython",
    "version": 3
   },
   "file_extension": ".py",
   "mimetype": "text/x-python",
   "name": "python",
   "nbconvert_exporter": "python",
   "pygments_lexer": "ipython3",
   "version": "3.7.3"
  }
 },
 "nbformat": 4,
 "nbformat_minor": 2
}
